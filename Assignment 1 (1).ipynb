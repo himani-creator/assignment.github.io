{
 "cells": [
  {
   "cell_type": "code",
   "execution_count": 9,
   "id": "0cb8edfa-5b65-4d57-9c81-0c4ab041f081",
   "metadata": {},
   "outputs": [
    {
     "name": "stdout",
     "output_type": "stream",
     "text": [
      "<class 'list'>\n",
      "himani\n",
      "<class 'str'>\n",
      "3.4\n",
      "<class 'float'>\n",
      "4\n",
      "<class 'int'>\n",
      "5\n",
      "<class 'int'>\n",
      "['hima', 4.3, 6]\n",
      "<class 'list'>\n",
      "(2, 2, 3, 9, 4, 3)\n",
      "<class 'tuple'>\n"
     ]
    }
   ],
   "source": [
    "#Create one variable containing following type of data:  string,  list,  float , tuple\n",
    "\n",
    "a = [\"himani\" , 3.4 , 4, 5, [\"hima\", 4.3, 6] , (2,2,3,9,4,3) ]\n",
    "print(type(a))\n",
    "for i in a :\n",
    "    print(i)\n",
    "    print(type(i))\n"
   ]
  },
  {
   "cell_type": "code",
   "execution_count": 18,
   "id": "fbb6289f-e3e1-4382-83e5-4cfbd487d381",
   "metadata": {},
   "outputs": [
    {
     "name": "stdout",
     "output_type": "stream",
     "text": [
      "<class 'str'>\n",
      "<class 'str'>\n",
      "<class 'list'>\n",
      "<class 'int'>\n"
     ]
    }
   ],
   "source": [
    "#Q2. Given are some following variables containing data: (i) var1 = ‘ ‘ , (ii) var2 = ‘[ DS , ML , Python]’\n",
    "#(iii) var3 = [ ‘DS’ , ’ML’ , ‘Python’ ]\n",
    "#(iv) var4 = 1. What will be the data type of the above given variable.\n",
    "\n",
    "var1 =' '\n",
    "print(type(var1))\n",
    "var2 =  '[ DS , ML , Python]'\n",
    "print(type(var2))\n",
    "var3 = ['DS' , 'ML' , 'Python']\n",
    "print(type(var3))\n",
    "var4 = 1\n",
    "print(type(var4))"
   ]
  },
  {
   "cell_type": "code",
   "execution_count": 24,
   "id": "c32e950d-2357-48e0-85f2-23103b42de25",
   "metadata": {},
   "outputs": [
    {
     "name": "stdout",
     "output_type": "stream",
     "text": [
      "5.0\n",
      "0\n",
      "5\n",
      "8\n"
     ]
    }
   ],
   "source": [
    "#Q3. Explain the use of the following operators using an example: (i) / (ii) % (iii) // (iv) **\n",
    "a = 10\n",
    "b = 2\n",
    "\n",
    "print(a / b)  #it is division operator\n",
    "print(a % b)  #it is modulus operator\n",
    "print (a // b) #it is division floor operator\n",
    "print( b**3) # it is power operator"
   ]
  },
  {
   "cell_type": "code",
   "execution_count": 1,
   "id": "b5ce0c9a-590e-4665-9d79-c4d7f9fc83b1",
   "metadata": {},
   "outputs": [
    {
     "name": "stdout",
     "output_type": "stream",
     "text": [
      "5.6\n",
      "<class 'float'>\n",
      "3\n",
      "<class 'int'>\n",
      "4\n",
      "<class 'int'>\n",
      "himani\n",
      "<class 'str'>\n",
      "(3, 9, 6, 7)\n",
      "<class 'tuple'>\n",
      "manral\n",
      "<class 'str'>\n",
      "65\n",
      "<class 'int'>\n",
      "34\n",
      "<class 'int'>\n",
      "45.8\n",
      "<class 'float'>\n",
      "True\n",
      "<class 'bool'>\n"
     ]
    }
   ],
   "source": [
    "#Q4. Create a list of length 10 of your choice containing multiple types of data. Using for loop print the element and its data type.\n",
    "\n",
    "l = [ 5.6, 3,4, \"himani\", (3,9,6,7), \"manral\", 65,34, 45.8, True]\n",
    "for j in l :\n",
    "    print(j)\n",
    "    print(type(j))\n"
   ]
  },
  {
   "cell_type": "code",
   "execution_count": 3,
   "id": "69ba6413-fe26-4336-9a4e-ce215c3ff2ca",
   "metadata": {},
   "outputs": [
    {
     "name": "stdout",
     "output_type": "stream",
     "text": [
      "23\n",
      "no\n",
      "9\n",
      "yes\n",
      "20\n",
      "no\n",
      "3\n",
      "yes\n",
      "15\n",
      "yes\n",
      "45\n",
      "yes\n",
      "78\n",
      "yes\n",
      "5\n",
      "no\n",
      "25\n",
      "no\n",
      "27\n",
      "yes\n",
      "8\n",
      "no\n",
      "6\n",
      "yes\n"
     ]
    }
   ],
   "source": [
    "#Q6. Create a list containing 25 int type data. Using for loop and if-else condition print if the element is\n",
    "#divisible by 3 or not.\n",
    "\n",
    "l  = [ 23, 9 , 20, 3, 15, 45, 78,5, 25, 27, 8, 6]\n",
    "\n",
    "for j in l :\n",
    "    print(j)\n",
    "    if j%3==0:\n",
    "        print(\"yes\")\n",
    "    else :\n",
    "        print(\"no\")"
   ]
  },
  {
   "cell_type": "code",
   "execution_count": 4,
   "id": "d8ad8f55-9e01-4f30-9c23-405519521f4b",
   "metadata": {},
   "outputs": [
    {
     "name": "stdout",
     "output_type": "stream",
     "text": [
      "[3, 4, 8, 'man']\n"
     ]
    }
   ],
   "source": [
    "#Q7. What do you understand about mutable and immutable data types? Give examples for both showing\n",
    "#this property.\n",
    "\n",
    "#Answer - Mutable data types are those data type which allow users to change the element for example list data type.\n",
    "#Imutable data types are those data type which doesn't allow users to change its elements for example string.  \n",
    "\n",
    "l = [3, 4, 6, \"man\"]\n",
    "l[2] = 8\n",
    "print(l)"
   ]
  },
  {
   "cell_type": "code",
   "execution_count": 5,
   "id": "03a8df75-22f8-4134-90bd-f1ca253dc124",
   "metadata": {},
   "outputs": [
    {
     "ename": "TypeError",
     "evalue": "'str' object does not support item assignment",
     "output_type": "error",
     "traceback": [
      "\u001b[0;31m---------------------------------------------------------------------------\u001b[0m",
      "\u001b[0;31mTypeError\u001b[0m                                 Traceback (most recent call last)",
      "Cell \u001b[0;32mIn[5], line 2\u001b[0m\n\u001b[1;32m      1\u001b[0m s \u001b[38;5;241m=\u001b[39m \u001b[38;5;124m\"\u001b[39m\u001b[38;5;124mhimani\u001b[39m\u001b[38;5;124m\"\u001b[39m\n\u001b[0;32m----> 2\u001b[0m \u001b[43ms\u001b[49m\u001b[43m[\u001b[49m\u001b[38;5;241;43m2\u001b[39;49m\u001b[43m]\u001b[49m \u001b[38;5;241m=\u001b[39m \u001b[38;5;124m'\u001b[39m\u001b[38;5;124ma\u001b[39m\u001b[38;5;124m'\u001b[39m\n",
      "\u001b[0;31mTypeError\u001b[0m: 'str' object does not support item assignment"
     ]
    }
   ],
   "source": [
    "s = \"himani\"\n",
    "s[2] = 'a'"
   ]
  },
  {
   "cell_type": "code",
   "execution_count": null,
   "id": "308a159e-db83-4451-a1cd-7238dc9b4d5b",
   "metadata": {},
   "outputs": [],
   "source": [
    "#Q5. Using a while loop, verify if the number A is purely divisible by number B and if so then how many times it can\n",
    "#be divisible.\n",
    "\n",
    "a = 20\n",
    "b = 10\n",
    "print (a)\n",
    "print(b)\n",
    "\n",
    "while a%b == 0 :\n",
    "        print(\"yes it is purely divisible by b\")\n",
    "        break\n",
    "         "
   ]
  },
  {
   "cell_type": "code",
   "execution_count": null,
   "id": "69eca7c5-ec17-4a60-9db6-509fb65039cf",
   "metadata": {},
   "outputs": [],
   "source": []
  }
 ],
 "metadata": {
  "kernelspec": {
   "display_name": "Python 3 (ipykernel)",
   "language": "python",
   "name": "python3"
  },
  "language_info": {
   "codemirror_mode": {
    "name": "ipython",
    "version": 3
   },
   "file_extension": ".py",
   "mimetype": "text/x-python",
   "name": "python",
   "nbconvert_exporter": "python",
   "pygments_lexer": "ipython3",
   "version": "3.10.8"
  }
 },
 "nbformat": 4,
 "nbformat_minor": 5
}
